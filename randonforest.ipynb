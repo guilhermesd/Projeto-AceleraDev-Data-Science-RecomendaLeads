{
 "cells": [
  {
   "cell_type": "code",
   "execution_count": 208,
   "metadata": {},
   "outputs": [],
   "source": [
    "import pandas as pd\n",
    "import matplotlib.pyplot as plt\n",
    "import numpy as np\n",
    "import scipy.stats as sct\n",
    "import seaborn as sns\n",
    "import pickle\n",
    "\n",
    "from sklearn.impute import SimpleImputer\n",
    "from sklearn.pipeline import Pipeline\n",
    "from sklearn.pipeline import Pipeline\n",
    "from sklearn.preprocessing import StandardScaler, OneHotEncoder, LabelEncoder, OrdinalEncoder\n",
    "from sklearn.feature_selection import RFE\n",
    "\n",
    "from sklearn.compose import ColumnTransformer\n",
    "from imblearn.over_sampling import SMOTE\n",
    "from sklearn.svm import SVR\n",
    "from sklearn.ensemble import RandomForestClassifier\n",
    "from imblearn.under_sampling import NearMiss\n",
    "from sklearn.metrics import accuracy_score, confusion_matrix, classification_report\n",
    "from sklearn.model_selection import GridSearchCV"
   ]
  },
  {
   "cell_type": "code",
   "execution_count": 122,
   "metadata": {},
   "outputs": [],
   "source": [
    "dfm  = pd.read_csv('estaticos_market.csv')\n",
    "dfp1 = pd.read_csv('estaticos_portfolio1.csv')"
   ]
  },
  {
   "cell_type": "code",
   "execution_count": 123,
   "metadata": {},
   "outputs": [],
   "source": [
    "dfp2 = pd.read_csv('estaticos_portfolio2.csv')\n",
    "dfp3 = pd.read_csv('estaticos_portfolio3.csv')"
   ]
  },
  {
   "cell_type": "code",
   "execution_count": 124,
   "metadata": {},
   "outputs": [
    {
     "name": "stdout",
     "output_type": "stream",
     "text": [
      "(462298, 182)\n",
      "(555, 182)\n",
      "(566, 2)\n",
      "(265, 2)\n"
     ]
    }
   ],
   "source": [
    "print(dfm.shape)\n",
    "print(dfp1.shape)\n",
    "print(dfp2.shape)\n",
    "print(dfp3.shape)"
   ]
  },
  {
   "cell_type": "markdown",
   "metadata": {},
   "source": [
    "## Análise exploratória dos dados"
   ]
  },
  {
   "cell_type": "code",
   "execution_count": 125,
   "metadata": {},
   "outputs": [
    {
     "data": {
      "text/html": [
       "<div>\n",
       "<style scoped>\n",
       "    .dataframe tbody tr th:only-of-type {\n",
       "        vertical-align: middle;\n",
       "    }\n",
       "\n",
       "    .dataframe tbody tr th {\n",
       "        vertical-align: top;\n",
       "    }\n",
       "\n",
       "    .dataframe thead th {\n",
       "        text-align: right;\n",
       "    }\n",
       "</style>\n",
       "<table border=\"1\" class=\"dataframe\">\n",
       "  <thead>\n",
       "    <tr style=\"text-align: right;\">\n",
       "      <th></th>\n",
       "      <th>Unnamed: 0</th>\n",
       "      <th>id</th>\n",
       "      <th>fl_matriz</th>\n",
       "      <th>de_natureza_juridica</th>\n",
       "      <th>sg_uf</th>\n",
       "      <th>natureza_juridica_macro</th>\n",
       "      <th>de_ramo</th>\n",
       "      <th>setor</th>\n",
       "      <th>idade_empresa_anos</th>\n",
       "      <th>idade_emp_cat</th>\n",
       "      <th>...</th>\n",
       "      <th>media_meses_servicos</th>\n",
       "      <th>max_meses_servicos</th>\n",
       "      <th>min_meses_servicos</th>\n",
       "      <th>qt_funcionarios</th>\n",
       "      <th>qt_funcionarios_12meses</th>\n",
       "      <th>qt_funcionarios_24meses</th>\n",
       "      <th>tx_crescimento_12meses</th>\n",
       "      <th>tx_crescimento_24meses</th>\n",
       "      <th>tx_rotatividade</th>\n",
       "      <th>qt_filiais</th>\n",
       "    </tr>\n",
       "  </thead>\n",
       "  <tbody>\n",
       "    <tr>\n",
       "      <th>0</th>\n",
       "      <td>0</td>\n",
       "      <td>a6984c3ae395090e3bee8ad63c3758b110de096d5d8195...</td>\n",
       "      <td>True</td>\n",
       "      <td>SOCIEDADE EMPRESARIA LIMITADA</td>\n",
       "      <td>RN</td>\n",
       "      <td>ENTIDADES EMPRESARIAIS</td>\n",
       "      <td>INDUSTRIA DA CONSTRUCAO</td>\n",
       "      <td>CONSTRUÇÃO CIVIL</td>\n",
       "      <td>14.457534</td>\n",
       "      <td>10 a 15</td>\n",
       "      <td>...</td>\n",
       "      <td>43.738462</td>\n",
       "      <td>93.266667</td>\n",
       "      <td>19.166667</td>\n",
       "      <td>26.0</td>\n",
       "      <td>26.0</td>\n",
       "      <td>27.0</td>\n",
       "      <td>0.0</td>\n",
       "      <td>-3.703704</td>\n",
       "      <td>0.0</td>\n",
       "      <td>0</td>\n",
       "    </tr>\n",
       "  </tbody>\n",
       "</table>\n",
       "<p>1 rows × 182 columns</p>\n",
       "</div>"
      ],
      "text/plain": [
       "   Unnamed: 0                                                 id  fl_matriz  \\\n",
       "0           0  a6984c3ae395090e3bee8ad63c3758b110de096d5d8195...       True   \n",
       "\n",
       "            de_natureza_juridica sg_uf natureza_juridica_macro  \\\n",
       "0  SOCIEDADE EMPRESARIA LIMITADA    RN  ENTIDADES EMPRESARIAIS   \n",
       "\n",
       "                   de_ramo             setor  idade_empresa_anos  \\\n",
       "0  INDUSTRIA DA CONSTRUCAO  CONSTRUÇÃO CIVIL           14.457534   \n",
       "\n",
       "  idade_emp_cat  ...  media_meses_servicos  max_meses_servicos  \\\n",
       "0       10 a 15  ...             43.738462           93.266667   \n",
       "\n",
       "   min_meses_servicos  qt_funcionarios  qt_funcionarios_12meses  \\\n",
       "0           19.166667             26.0                     26.0   \n",
       "\n",
       "  qt_funcionarios_24meses  tx_crescimento_12meses  tx_crescimento_24meses  \\\n",
       "0                    27.0                     0.0               -3.703704   \n",
       "\n",
       "   tx_rotatividade qt_filiais  \n",
       "0              0.0          0  \n",
       "\n",
       "[1 rows x 182 columns]"
      ]
     },
     "execution_count": 125,
     "metadata": {},
     "output_type": "execute_result"
    }
   ],
   "source": [
    "dfm.head(1)"
   ]
  },
  {
   "cell_type": "code",
   "execution_count": 126,
   "metadata": {},
   "outputs": [
    {
     "name": "stdout",
     "output_type": "stream",
     "text": [
      "Unnamed: 0                                            0\n",
      "id                                                    0\n",
      "fl_matriz                                             0\n",
      "de_natureza_juridica                                  0\n",
      "sg_uf                                                 0\n",
      "natureza_juridica_macro                               0\n",
      "de_ramo                                               0\n",
      "setor                                              1927\n",
      "idade_empresa_anos                                    0\n",
      "idade_emp_cat                                         0\n",
      "fl_me                                                 0\n",
      "fl_sa                                                 0\n",
      "fl_epp                                                0\n",
      "fl_mei                                                0\n",
      "fl_ltda                                               0\n",
      "dt_situacao                                           6\n",
      "fl_st_especial                                        0\n",
      "fl_email                                              0\n",
      "fl_telefone                                           0\n",
      "fl_rm                                                 0\n",
      "nm_divisao                                         1927\n",
      "nm_segmento                                        1927\n",
      "fl_spa                                             1927\n",
      "fl_antt                                            1927\n",
      "fl_veiculo                                         1927\n",
      "vl_total_tancagem                                462018\n",
      "vl_total_veiculos_antt                           462122\n",
      "vl_total_veiculos_leves                          431614\n",
      "vl_total_veiculos_pesados                        431614\n",
      "fl_optante_simples                                82713\n",
      "                                                  ...  \n",
      "idade_de_34_a_38                                 425569\n",
      "idade_de_39_a_43                                 431890\n",
      "idade_de_44_a_48                                 438008\n",
      "idade_de_49_a_53                                 443261\n",
      "idade_de_54_a_58                                 448323\n",
      "idade_acima_de_58                                451272\n",
      "grau_instrucao_macro_analfabeto                  460414\n",
      "grau_instrucao_macro_escolaridade_fundamental    437402\n",
      "grau_instrucao_macro_escolaridade_media          394501\n",
      "grau_instrucao_macro_escolaridade_superior       439571\n",
      "grau_instrucao_macro_desconhecido                462298\n",
      "total                                            386356\n",
      "meses_ultima_contratacaco                        358724\n",
      "qt_admitidos_12meses                             358724\n",
      "qt_desligados_12meses                            358724\n",
      "qt_desligados                                    358724\n",
      "qt_admitidos                                     358724\n",
      "media_meses_servicos_all                         358738\n",
      "max_meses_servicos_all                           358738\n",
      "min_meses_servicos_all                           358738\n",
      "media_meses_servicos                             386037\n",
      "max_meses_servicos                               386037\n",
      "min_meses_servicos                               386037\n",
      "qt_funcionarios                                  358724\n",
      "qt_funcionarios_12meses                          358724\n",
      "qt_funcionarios_24meses                          358724\n",
      "tx_crescimento_12meses                           388410\n",
      "tx_crescimento_24meses                           388284\n",
      "tx_rotatividade                                  358724\n",
      "qt_filiais                                            0\n",
      "Length: 182, dtype: int64\n"
     ]
    }
   ],
   "source": [
    "# Quantificando quantos registros em branco existem em cada dimensão\n",
    "print (dfm.isnull().sum())"
   ]
  },
  {
   "cell_type": "code",
   "execution_count": 127,
   "metadata": {},
   "outputs": [
    {
     "data": {
      "text/plain": [
       "Unnamed: 0                                       0.000000\n",
       "id                                               0.000000\n",
       "fl_matriz                                        0.000000\n",
       "de_natureza_juridica                             0.000000\n",
       "sg_uf                                            0.000000\n",
       "natureza_juridica_macro                          0.000000\n",
       "de_ramo                                          0.000000\n",
       "setor                                            0.004168\n",
       "idade_empresa_anos                               0.000000\n",
       "idade_emp_cat                                    0.000000\n",
       "fl_me                                            0.000000\n",
       "fl_sa                                            0.000000\n",
       "fl_epp                                           0.000000\n",
       "fl_mei                                           0.000000\n",
       "fl_ltda                                          0.000000\n",
       "dt_situacao                                      0.000013\n",
       "fl_st_especial                                   0.000000\n",
       "fl_email                                         0.000000\n",
       "fl_telefone                                      0.000000\n",
       "fl_rm                                            0.000000\n",
       "nm_divisao                                       0.004168\n",
       "nm_segmento                                      0.004168\n",
       "fl_spa                                           0.004168\n",
       "fl_antt                                          0.004168\n",
       "fl_veiculo                                       0.004168\n",
       "vl_total_tancagem                                0.999394\n",
       "vl_total_veiculos_antt                           0.999619\n",
       "vl_total_veiculos_leves                          0.933627\n",
       "vl_total_veiculos_pesados                        0.933627\n",
       "fl_optante_simples                               0.178917\n",
       "                                                   ...   \n",
       "idade_de_34_a_38                                 0.920551\n",
       "idade_de_39_a_43                                 0.934224\n",
       "idade_de_44_a_48                                 0.947458\n",
       "idade_de_49_a_53                                 0.958821\n",
       "idade_de_54_a_58                                 0.969771\n",
       "idade_acima_de_58                                0.976150\n",
       "grau_instrucao_macro_analfabeto                  0.995925\n",
       "grau_instrucao_macro_escolaridade_fundamental    0.946147\n",
       "grau_instrucao_macro_escolaridade_media          0.853348\n",
       "grau_instrucao_macro_escolaridade_superior       0.950839\n",
       "grau_instrucao_macro_desconhecido                1.000000\n",
       "total                                            0.835729\n",
       "meses_ultima_contratacaco                        0.775958\n",
       "qt_admitidos_12meses                             0.775958\n",
       "qt_desligados_12meses                            0.775958\n",
       "qt_desligados                                    0.775958\n",
       "qt_admitidos                                     0.775958\n",
       "media_meses_servicos_all                         0.775989\n",
       "max_meses_servicos_all                           0.775989\n",
       "min_meses_servicos_all                           0.775989\n",
       "media_meses_servicos                             0.835039\n",
       "max_meses_servicos                               0.835039\n",
       "min_meses_servicos                               0.835039\n",
       "qt_funcionarios                                  0.775958\n",
       "qt_funcionarios_12meses                          0.775958\n",
       "qt_funcionarios_24meses                          0.775958\n",
       "tx_crescimento_12meses                           0.840172\n",
       "tx_crescimento_24meses                           0.839900\n",
       "tx_rotatividade                                  0.775958\n",
       "qt_filiais                                       0.000000\n",
       "Length: 182, dtype: float64"
      ]
     },
     "execution_count": 127,
     "metadata": {},
     "output_type": "execute_result"
    }
   ],
   "source": [
    "dfm.isnull().mean()"
   ]
  },
  {
   "cell_type": "code",
   "execution_count": 128,
   "metadata": {},
   "outputs": [
    {
     "name": "stdout",
     "output_type": "stream",
     "text": [
      "Percentual de dados faltantes: 65.97 %\n"
     ]
    }
   ],
   "source": [
    "dados_faltantes = dfm.isnull().sum() # soma os dados faltantes do dataset\n",
    "percentual_de_dados_faltantes = (dados_faltantes.sum()/ np.product(dfm.shape)) * 100\n",
    "print ('Percentual de dados faltantes:', round (percentual_de_dados_faltantes, 2), '%')"
   ]
  },
  {
   "cell_type": "markdown",
   "metadata": {},
   "source": [
    "## Tratamento dos dados"
   ]
  },
  {
   "cell_type": "markdown",
   "metadata": {},
   "source": [
    "Remove colunas com mais de 80% dos registros nulos\n",
    "https://stackoverflow.com/questions/43311555/how-to-drop-column-according-to-nan-percentage-for-dataframe"
   ]
  },
  {
   "cell_type": "code",
   "execution_count": 129,
   "metadata": {},
   "outputs": [],
   "source": [
    "dfm[\"portifolio\"] = -1;\n",
    "dfm = dfm.loc[:, dfm.isnull().mean() < .8].copy()\n",
    "dfm.drop(['Unnamed: 0'], axis=1, inplace=True)"
   ]
  },
  {
   "cell_type": "code",
   "execution_count": 130,
   "metadata": {},
   "outputs": [],
   "source": [
    "numeric_features = dfm.select_dtypes(include=['int64', 'float64']).drop(['portifolio'], axis=1).columns\n",
    "categorical_features = dfm.select_dtypes(include=['object', 'bool']).drop(['id'], axis=1).columns\n",
    "dfm[categorical_features] = dfm[categorical_features].fillna(-1).astype(str)"
   ]
  },
  {
   "cell_type": "code",
   "execution_count": 131,
   "metadata": {},
   "outputs": [],
   "source": [
    "numeric_transformer = Pipeline(steps=[\n",
    "    ('imputer', SimpleImputer(strategy='median')),\n",
    "    ('scaler', StandardScaler()) ])\n",
    "\n",
    "categorical_transformer = Pipeline(steps=[\n",
    "    ('imputer', SimpleImputer(strategy='constant', fill_value='0')),\n",
    "    ('onehot',  OrdinalEncoder())])\n",
    "\n",
    "preprocessorColumnTransformer = ColumnTransformer(\n",
    "    transformers=[\n",
    "        ('num', numeric_transformer, numeric_features),\n",
    "        ('cat', categorical_transformer, categorical_features)])"
   ]
  },
  {
   "cell_type": "code",
   "execution_count": 132,
   "metadata": {},
   "outputs": [],
   "source": [
    "dfColumnsNaoAlteradas = pd.DataFrame(dfm[['id', 'portifolio']], columns=['id', 'portifolio'])\n",
    "numeric_features.tolist() + categorical_features.tolist()\n",
    "dfmColumnTransformation = pd.DataFrame(preprocessorColumnTransformer.fit_transform(dfm), columns=[numeric_features.tolist() + categorical_features.tolist()])\n",
    "dfmColumnTransformation = pd.concat([dfColumnsNaoAlteradas, dfmColumnTransformation], axis=1)"
   ]
  },
  {
   "cell_type": "code",
   "execution_count": 133,
   "metadata": {},
   "outputs": [],
   "source": [
    "#usar os 3 portifolios que tenho para selecionar as melhores features\n",
    "dfmColumnTransformation.loc[dfmColumnTransformation.id.isin(dfp1.id).astype(int) > 0, \"portifolio\"] = 1\n",
    "dfmColumnTransformation.loc[dfmColumnTransformation.id.isin(dfp2.id).astype(int) > 0, \"portifolio\"] = 2\n",
    "dfmColumnTransformation.loc[dfmColumnTransformation.id.isin(dfp3.id).astype(int) > 0, \"portifolio\"] = 3"
   ]
  },
  {
   "cell_type": "code",
   "execution_count": 134,
   "metadata": {},
   "outputs": [
    {
     "data": {
      "text/plain": [
       "-1    461020\n",
       " 1       555\n",
       " 2       458\n",
       " 3       265\n",
       "Name: portifolio, dtype: int64"
      ]
     },
     "execution_count": 134,
     "metadata": {},
     "output_type": "execute_result"
    }
   ],
   "source": [
    "dfmColumnTransformation.portifolio.value_counts()"
   ]
  },
  {
   "cell_type": "code",
   "execution_count": 136,
   "metadata": {
    "scrolled": true
   },
   "outputs": [
    {
     "data": {
      "text/plain": [
       "(462298, 67)"
      ]
     },
     "execution_count": 136,
     "metadata": {},
     "output_type": "execute_result"
    }
   ],
   "source": [
    "dfmColumnTransformation.shape"
   ]
  },
  {
   "cell_type": "code",
   "execution_count": 137,
   "metadata": {},
   "outputs": [
    {
     "data": {
      "text/plain": [
       "1    555\n",
       "2    458\n",
       "3    265\n",
       "Name: portifolio, dtype: int64"
      ]
     },
     "execution_count": 137,
     "metadata": {},
     "output_type": "execute_result"
    }
   ],
   "source": [
    "dfmParaRfe = dfmColumnTransformation[dfmColumnTransformation[\"portifolio\"] != -1]\n",
    "dfmParaRfe.portifolio.value_counts()"
   ]
  },
  {
   "cell_type": "code",
   "execution_count": 138,
   "metadata": {},
   "outputs": [],
   "source": [
    "X, y = dfmParaRfe.drop(columns = ['portifolio', 'id'], axis=1), dfmParaRfe['portifolio']"
   ]
  },
  {
   "cell_type": "markdown",
   "metadata": {},
   "source": [
    "#### Procura os melhores parametros para o modelo"
   ]
  },
  {
   "cell_type": "code",
   "execution_count": 139,
   "metadata": {},
   "outputs": [
    {
     "data": {
      "text/plain": [
       "\"\\nrf = Pipeline(steps=[('classifier', RandomForestClassifier())])\\nparam_grid = { \\n    'classifier__n_estimators': [200, 500],\\n    'classifier__max_features': ['auto', 'sqrt', 'log2'],\\n    'classifier__max_depth' : [4,5,6,7,8],\\n    'classifier__criterion' :['gini', 'entropy']}\\nfrom sklearn.model_selection import GridSearchCV\\nCV = GridSearchCV(rf, param_grid, n_jobs= 1)\\n                  \\nCV.fit(X, y)  \\nprint(CV.best_params_)    \\nprint(CV.best_score_)\\n\""
      ]
     },
     "execution_count": 139,
     "metadata": {},
     "output_type": "execute_result"
    }
   ],
   "source": [
    "rf = Pipeline(steps=[('classifier', RandomForestClassifier())])\n",
    "param_grid = { \n",
    "    'classifier__n_estimators': [200, 500],\n",
    "    'classifier__max_features': ['auto', 'sqrt', 'log2'],\n",
    "    'classifier__max_depth' : [4,5,6,7,8],\n",
    "    'classifier__criterion' :['gini', 'entropy']}\n",
    "CV = GridSearchCV(rf, param_grid, n_jobs= 1)\n",
    "                  \n",
    "CV.fit(X, y)  \n",
    "print(CV.best_params_)    \n",
    "print(CV.best_score_)"
   ]
  },
  {
   "cell_type": "code",
   "execution_count": 140,
   "metadata": {},
   "outputs": [],
   "source": [
    "model = RandomForestClassifier(criterion= 'entropy', max_depth= 7, max_features= 'sqrt', n_estimators= 200)"
   ]
  },
  {
   "cell_type": "markdown",
   "metadata": {},
   "source": [
    "#### RFE pare tentar achar as melhores features"
   ]
  },
  {
   "cell_type": "code",
   "execution_count": 141,
   "metadata": {},
   "outputs": [],
   "source": [
    "selector = RFE(model, n_features_to_select = 20, step=0.05)\n",
    "selector = selector.fit(X, y)"
   ]
  },
  {
   "cell_type": "markdown",
   "metadata": {},
   "source": [
    "#### tentar achar as melhores selecionadas pelo RFE "
   ]
  },
  {
   "cell_type": "code",
   "execution_count": 142,
   "metadata": {},
   "outputs": [
    {
     "data": {
      "text/plain": [
       "Text(0.5, 1.0, 'Importância de cada feature')"
      ]
     },
     "execution_count": 142,
     "metadata": {},
     "output_type": "execute_result"
    },
    {
     "data": {
      "image/png": "[encoded data removed]",
      "text/plain": [
       "<Figure size 432x288 with 1 Axes>"
      ]
     },
     "metadata": {
      "needs_background": "light"
     },
     "output_type": "display_data"
    }
   ],
   "source": [
    "#dessas as que tem mais importancia\n",
    "model.fit(X[X.columns[selector.support_]], y)\n",
    "importances = pd.Series(data=model.feature_importances_, index=dfmColumnTransformation[X.columns[selector.support_]].columns)\n",
    "sns.barplot(x=importances, y=importances.index, orient='h').set_title('Importância de cada feature')"
   ]
  },
  {
   "cell_type": "code",
   "execution_count": 143,
   "metadata": {},
   "outputs": [
    {
     "data": {
      "text/html": [
       "<div>\n",
       "<style scoped>\n",
       "    .dataframe tbody tr th:only-of-type {\n",
       "        vertical-align: middle;\n",
       "    }\n",
       "\n",
       "    .dataframe tbody tr th {\n",
       "        vertical-align: top;\n",
       "    }\n",
       "\n",
       "    .dataframe thead th {\n",
       "        text-align: right;\n",
       "    }\n",
       "</style>\n",
       "<table border=\"1\" class=\"dataframe\">\n",
       "  <thead>\n",
       "    <tr style=\"text-align: right;\">\n",
       "      <th></th>\n",
       "      <th>id</th>\n",
       "      <th>portifolio</th>\n",
       "      <th>(idade_empresa_anos,)</th>\n",
       "      <th>(vl_faturamento_estimado_aux,)</th>\n",
       "      <th>(vl_faturamento_estimado_grupo_aux,)</th>\n",
       "      <th>(qt_ex_funcionarios,)</th>\n",
       "      <th>(qt_funcionarios_grupo,)</th>\n",
       "      <th>(meses_ultima_contratacaco,)</th>\n",
       "      <th>(qt_desligados,)</th>\n",
       "      <th>(qt_admitidos,)</th>\n",
       "      <th>...</th>\n",
       "      <th>(min_meses_servicos_all,)</th>\n",
       "      <th>(qt_funcionarios,)</th>\n",
       "      <th>(qt_funcionarios_12meses,)</th>\n",
       "      <th>(qt_funcionarios_24meses,)</th>\n",
       "      <th>(de_natureza_juridica,)</th>\n",
       "      <th>(de_ramo,)</th>\n",
       "      <th>(setor,)</th>\n",
       "      <th>(dt_situacao,)</th>\n",
       "      <th>(nm_divisao,)</th>\n",
       "      <th>(nm_segmento,)</th>\n",
       "    </tr>\n",
       "  </thead>\n",
       "  <tbody>\n",
       "    <tr>\n",
       "      <th>0</th>\n",
       "      <td>a6984c3ae395090e3bee8ad63c3758b110de096d5d8195...</td>\n",
       "      <td>-1</td>\n",
       "      <td>0.468908</td>\n",
       "      <td>0.078677</td>\n",
       "      <td>-0.045443</td>\n",
       "      <td>1.144956</td>\n",
       "      <td>-0.039391</td>\n",
       "      <td>-0.238011</td>\n",
       "      <td>1.135431</td>\n",
       "      <td>0.733125</td>\n",
       "      <td>...</td>\n",
       "      <td>-0.135055</td>\n",
       "      <td>0.205791</td>\n",
       "      <td>0.205988</td>\n",
       "      <td>0.195622</td>\n",
       "      <td>60.0</td>\n",
       "      <td>11.0</td>\n",
       "      <td>3.0</td>\n",
       "      <td>2710.0</td>\n",
       "      <td>33.0</td>\n",
       "      <td>11.0</td>\n",
       "    </tr>\n",
       "    <tr>\n",
       "      <th>1</th>\n",
       "      <td>6178f41ade1365e44bc2c46654c2c8c0eaae27dcb476c4...</td>\n",
       "      <td>-1</td>\n",
       "      <td>-0.882484</td>\n",
       "      <td>-0.018523</td>\n",
       "      <td>-0.045866</td>\n",
       "      <td>-0.056385</td>\n",
       "      <td>-0.039736</td>\n",
       "      <td>-0.049031</td>\n",
       "      <td>-0.054958</td>\n",
       "      <td>-0.042536</td>\n",
       "      <td>...</td>\n",
       "      <td>-0.047562</td>\n",
       "      <td>-0.021950</td>\n",
       "      <td>-0.021627</td>\n",
       "      <td>-0.024330</td>\n",
       "      <td>17.0</td>\n",
       "      <td>21.0</td>\n",
       "      <td>5.0</td>\n",
       "      <td>6812.0</td>\n",
       "      <td>4.0</td>\n",
       "      <td>4.0</td>\n",
       "    </tr>\n",
       "  </tbody>\n",
       "</table>\n",
       "<p>2 rows × 22 columns</p>\n",
       "</div>"
      ],
      "text/plain": [
       "                                                  id  portifolio  \\\n",
       "0  a6984c3ae395090e3bee8ad63c3758b110de096d5d8195...          -1   \n",
       "1  6178f41ade1365e44bc2c46654c2c8c0eaae27dcb476c4...          -1   \n",
       "\n",
       "   (idade_empresa_anos,)  (vl_faturamento_estimado_aux,)  \\\n",
       "0               0.468908                        0.078677   \n",
       "1              -0.882484                       -0.018523   \n",
       "\n",
       "   (vl_faturamento_estimado_grupo_aux,)  (qt_ex_funcionarios,)  \\\n",
       "0                             -0.045443               1.144956   \n",
       "1                             -0.045866              -0.056385   \n",
       "\n",
       "   (qt_funcionarios_grupo,)  (meses_ultima_contratacaco,)  (qt_desligados,)  \\\n",
       "0                 -0.039391                     -0.238011          1.135431   \n",
       "1                 -0.039736                     -0.049031         -0.054958   \n",
       "\n",
       "   (qt_admitidos,)  ...  (min_meses_servicos_all,)  (qt_funcionarios,)  \\\n",
       "0         0.733125  ...                  -0.135055            0.205791   \n",
       "1        -0.042536  ...                  -0.047562           -0.021950   \n",
       "\n",
       "   (qt_funcionarios_12meses,)  (qt_funcionarios_24meses,)  \\\n",
       "0                    0.205988                    0.195622   \n",
       "1                   -0.021627                   -0.024330   \n",
       "\n",
       "   (de_natureza_juridica,)  (de_ramo,)  (setor,)  (dt_situacao,)  \\\n",
       "0                     60.0        11.0       3.0          2710.0   \n",
       "1                     17.0        21.0       5.0          6812.0   \n",
       "\n",
       "   (nm_divisao,)  (nm_segmento,)  \n",
       "0           33.0            11.0  \n",
       "1            4.0             4.0  \n",
       "\n",
       "[2 rows x 22 columns]"
      ]
     },
     "execution_count": 143,
     "metadata": {},
     "output_type": "execute_result"
    }
   ],
   "source": [
    "#print([i for i in model.feature_importances_ if i > 0 ])\n",
    "#len(dfmColumnTransformation[X.columns[selector.support_]].columns)\n",
    "dfColumnsNaoAlteradas = pd.DataFrame(dfmColumnTransformation[['id', 'portifolio']], columns=['id', 'portifolio'])\n",
    "dfmColumnSelecionadas = pd.DataFrame(dfmColumnTransformation[X.columns[selector.support_]], columns=dfmColumnTransformation[X.columns[selector.support_]].columns.tolist())\n",
    "dfmColumnTransformationToSave = pd.concat([dfColumnsNaoAlteradas, dfmColumnSelecionadas], axis=1)\n",
    "dfmColumnTransformationToSave.head(2)"
   ]
  },
  {
   "cell_type": "code",
   "execution_count": 144,
   "metadata": {},
   "outputs": [],
   "source": [
    "dfmColumnTransformationToSave.to_csv('estaticos_market_tratado.csv', index=False)"
   ]
  },
  {
   "cell_type": "markdown",
   "metadata": {},
   "source": [
    "## Avaliação de algoritmos"
   ]
  },
  {
   "cell_type": "code",
   "execution_count": 158,
   "metadata": {},
   "outputs": [],
   "source": [
    "def avaliacaoAlgoritmoPorNearMiss(dfm):\n",
    "    nr = NearMiss()\n",
    "    X, y = nr.fit_sample(dfm.drop(['portifolio', 'id'], axis=1), dfm.portifolio)\n",
    "    print(sns.countplot(x=y))\n",
    "    X_train, X_test, y_train, y_test = train_test_split(X, y, random_state = 1, stratify=y)\n",
    "    model.fit(X_train, y_train)\n",
    "    y_pred = model.predict(X_test)\n",
    "    print(\"accuracy_score por NearMiss => \" +  accuracy_score(y_test, y_pred).astype(str))\n",
    "    \n",
    "def avaliacaoAlgoritmoPorSMOTE(dfm):\n",
    "    smt = SMOTE()\n",
    "    X, y = smt.fit_sample(dfm.drop(['portifolio', 'id'], axis=1), dfm.portifolio)\n",
    "    print(sns.countplot(x=y))\n",
    "    X_train, X_test, y_train, y_test = train_test_split(X, y, random_state = 1, stratify=y)\n",
    "    model.fit(X_train, y_train)\n",
    "    y_pred = model.predict(X_test)\n",
    "    print(\"accuracy_score por SMOTE => \" +  accuracy_score(y_test, y_pred).astype(str))    "
   ]
  },
  {
   "cell_type": "code",
   "execution_count": 182,
   "metadata": {},
   "outputs": [],
   "source": [
    "#vou usar o portifolio 1 para fazer a avaliação do algoritmo de classificação\n",
    "dfmTratado  = pd.read_csv('estaticos_market_tratado.csv')\n",
    "dfmTratado[\"portifolio\"] = -1;\n",
    "dfmTratado.loc[dfmColumnTransformation.id.isin(dfp1.id).astype(int) > 0, \"portifolio\"] = 1"
   ]
  },
  {
   "cell_type": "code",
   "execution_count": 177,
   "metadata": {},
   "outputs": [
    {
     "name": "stdout",
     "output_type": "stream",
     "text": [
      "AxesSubplot(0.125,0.125;0.775x0.755)\n",
      "accuracy_score por NearMiss => 0.9856115107913669\n",
      "AxesSubplot(0.125,0.125;0.775x0.755)\n",
      "accuracy_score por SMOTE => 0.8347872414151565\n"
     ]
    },
    {
     "data": {
      "image/png": "[encoded data removed]",
      "text/plain": [
       "<Figure size 432x288 with 1 Axes>"
      ]
     },
     "metadata": {
      "needs_background": "light"
     },
     "output_type": "display_data"
    }
   ],
   "source": [
    "avaliacaoAlgoritmoPorNearMiss(dfmTratado)\n",
    "avaliacaoAlgoritmoPorSMOTE(dfmTratado)"
   ]
  },
  {
   "cell_type": "markdown",
   "metadata": {},
   "source": [
    "## Treinamento do modelo"
   ]
  },
  {
   "cell_type": "code",
   "execution_count": 189,
   "metadata": {},
   "outputs": [
    {
     "name": "stdout",
     "output_type": "stream",
     "text": [
      "(461732, 22)\n"
     ]
    }
   ],
   "source": [
    "dfmTratado[\"portifolio\"] = -1;\n",
    "def treinaModelo(dfPortifolio, testSize = 0.01):\n",
    "    dfmTratado.loc[dfmColumnTransformation.id.isin(dfPortifolio.id).astype(int) > 0, \"portifolio\"] = 1\n",
    "    nr = NearMiss()\n",
    "    X, y = nr.fit_sample(dfmTratado.drop(['portifolio', 'id'], axis=1), dfmTratado.portifolio)\n",
    "    X_train, X_test, y_train, y_test = train_test_split(X, y, random_state = 1, test_size=testSize, stratify=y)\n",
    "    model.fit(X_train, y_train)\n",
    "    return X_train, X_test, y_train, y_test\n",
    "\n",
    "treinaModelo(dfp2)\n",
    "dfTreino = dfmTratado[dfmTratado[\"portifolio\"] == -1]\n",
    "print(dfTreino.shape)"
   ]
  },
  {
   "cell_type": "markdown",
   "metadata": {},
   "source": [
    "####  Retorno da predição após o treinamento"
   ]
  },
  {
   "cell_type": "code",
   "execution_count": 190,
   "metadata": {},
   "outputs": [
    {
     "data": {
      "text/plain": [
       "array([-1, -1, -1, ..., -1, -1, -1], dtype=int64)"
      ]
     },
     "execution_count": 190,
     "metadata": {},
     "output_type": "execute_result"
    }
   ],
   "source": [
    "y_pred = model.predict(dfTreino.drop(['portifolio', 'id'], axis=1))\n",
    "y_pred"
   ]
  },
  {
   "cell_type": "markdown",
   "metadata": {},
   "source": [
    "### Avaliação de Performance do Modelo"
   ]
  },
  {
   "cell_type": "code",
   "execution_count": 205,
   "metadata": {},
   "outputs": [],
   "source": [
    "def avaliacaoPerformanceModelo(dfPortifolio, testSize = 0.33):\n",
    "    X_train, X_test, y_train, y_test = treinaModelo(dfPortifolio, testSize)\n",
    "    predAvaliacao = model.predict(X_test)\n",
    "    print(\"accuracy_score\\n-----------------------------------\\n\")\n",
    "    print(accuracy_score(y_test, predAvaliacao))\n",
    "    print(\"\\n\\n\")\n",
    "    print(\"classification_report\\n----------------------------\\n\")\n",
    "    print (classification_report(y_test, predAvaliacao))\n",
    "    print(\"\\n\")\n",
    "    print(\"crosstab\\n-----------------------------------------\\n\")\n",
    "    print (pd.crosstab(y_test, predAvaliacao, rownames=['Real'], colnames=['Predito'], margins=True))"
   ]
  },
  {
   "cell_type": "markdown",
   "metadata": {},
   "source": [
    "##### Avaliar portifolio 3"
   ]
  },
  {
   "cell_type": "code",
   "execution_count": 206,
   "metadata": {},
   "outputs": [
    {
     "name": "stdout",
     "output_type": "stream",
     "text": [
      "accuracy_score\n",
      "-----------------------------------\n",
      "\n",
      "0.9748953974895398\n",
      "\n",
      "\n",
      "\n",
      "classification_report\n",
      "----------------------------\n",
      "\n",
      "              precision    recall  f1-score   support\n",
      "\n",
      "          -1       0.98      0.97      0.97       239\n",
      "           1       0.97      0.98      0.98       239\n",
      "\n",
      "    accuracy                           0.97       478\n",
      "   macro avg       0.98      0.97      0.97       478\n",
      "weighted avg       0.98      0.97      0.97       478\n",
      "\n",
      "\n",
      "\n",
      "crosstab\n",
      "-----------------------------------------\n",
      "\n",
      "Predito   -1    1  All\n",
      "Real                  \n",
      "-1       231    8  239\n",
      "1          4  235  239\n",
      "All      235  243  478\n"
     ]
    }
   ],
   "source": [
    "avaliacaoPerformanceModelo(dfp3, testSize = 0.33)"
   ]
  },
  {
   "cell_type": "markdown",
   "metadata": {},
   "source": [
    "### Visualização dos Resultados"
   ]
  },
  {
   "cell_type": "markdown",
   "metadata": {},
   "source": [
    "##### Lista de Ids de Leads mais aderentes dado as características dos clientes presentes no portfólio do usuário "
   ]
  },
  {
   "cell_type": "code",
   "execution_count": 185,
   "metadata": {},
   "outputs": [],
   "source": [
    "y_pred = model.predict(dfTreino.drop(['portifolio', 'id'], axis=1))"
   ]
  },
  {
   "cell_type": "code",
   "execution_count": 186,
   "metadata": {},
   "outputs": [
    {
     "name": "stdout",
     "output_type": "stream",
     "text": [
      "(1980, 22)\n"
     ]
    },
    {
     "data": {
      "text/html": [
       "<div>\n",
       "<style scoped>\n",
       "    .dataframe tbody tr th:only-of-type {\n",
       "        vertical-align: middle;\n",
       "    }\n",
       "\n",
       "    .dataframe tbody tr th {\n",
       "        vertical-align: top;\n",
       "    }\n",
       "\n",
       "    .dataframe thead th {\n",
       "        text-align: right;\n",
       "    }\n",
       "</style>\n",
       "<table border=\"1\" class=\"dataframe\">\n",
       "  <thead>\n",
       "    <tr style=\"text-align: right;\">\n",
       "      <th></th>\n",
       "      <th>id</th>\n",
       "    </tr>\n",
       "  </thead>\n",
       "  <tbody>\n",
       "    <tr>\n",
       "      <th>79</th>\n",
       "      <td>8a584390e7b2fba5ef33a51b2f8fd63bd202194db3e5ee...</td>\n",
       "    </tr>\n",
       "    <tr>\n",
       "      <th>123</th>\n",
       "      <td>6e292487550f4b68a5a710b1512039761b07cdb9d11257...</td>\n",
       "    </tr>\n",
       "    <tr>\n",
       "      <th>428</th>\n",
       "      <td>1f122f16a4182b7474c29e5c49d6598ee10b86d2ab115f...</td>\n",
       "    </tr>\n",
       "    <tr>\n",
       "      <th>537</th>\n",
       "      <td>a69961fa35f49e63f74cecf303437758b72a833371eea3...</td>\n",
       "    </tr>\n",
       "    <tr>\n",
       "      <th>645</th>\n",
       "      <td>59d43a34290fd77e9b35e6eb5374ca7bd3ef67a2e1c507...</td>\n",
       "    </tr>\n",
       "    <tr>\n",
       "      <th>693</th>\n",
       "      <td>5b8e57173320b1ae3cb45733782609c27b6ee9e8ef2c46...</td>\n",
       "    </tr>\n",
       "    <tr>\n",
       "      <th>1443</th>\n",
       "      <td>c24d6219b125d9dbea52c431f6dc6122ee76c94cce8987...</td>\n",
       "    </tr>\n",
       "    <tr>\n",
       "      <th>1669</th>\n",
       "      <td>d3da982ee47e130c79a9262eaf08d7093b5797ed16893f...</td>\n",
       "    </tr>\n",
       "    <tr>\n",
       "      <th>2080</th>\n",
       "      <td>7de1743c7ed76964be2ae6ae429aac23393dd3e30de429...</td>\n",
       "    </tr>\n",
       "    <tr>\n",
       "      <th>2533</th>\n",
       "      <td>0d32ce2de82e59e3b7acf88f84c1c591069e07ec2668ba...</td>\n",
       "    </tr>\n",
       "    <tr>\n",
       "      <th>2832</th>\n",
       "      <td>cf384eed3b85fcad7309eaa6e84464f169461e4e18da1d...</td>\n",
       "    </tr>\n",
       "    <tr>\n",
       "      <th>2988</th>\n",
       "      <td>188c33292034f2ef38fc850d373ae45ca9c9b70a086859...</td>\n",
       "    </tr>\n",
       "    <tr>\n",
       "      <th>3116</th>\n",
       "      <td>bb61c09449a1c1f8b78955d8b7a7f73599e78358993fe2...</td>\n",
       "    </tr>\n",
       "    <tr>\n",
       "      <th>3120</th>\n",
       "      <td>9a9d5292d07e99d3d4ef1c4944a8db9378c1ce5362a741...</td>\n",
       "    </tr>\n",
       "    <tr>\n",
       "      <th>3174</th>\n",
       "      <td>a651774a7a22cc86086566ea82916610bf42fcaa5b5270...</td>\n",
       "    </tr>\n",
       "    <tr>\n",
       "      <th>3420</th>\n",
       "      <td>dbfe82951a3c6a448eb9e99c3d6e049617ba6854c1ad2d...</td>\n",
       "    </tr>\n",
       "    <tr>\n",
       "      <th>3428</th>\n",
       "      <td>d23e84d386deb53b82502230fa020084ec0d4391eadc96...</td>\n",
       "    </tr>\n",
       "    <tr>\n",
       "      <th>3547</th>\n",
       "      <td>97830f0377d6491b00f74173030c13887c4b8dc7fe0785...</td>\n",
       "    </tr>\n",
       "    <tr>\n",
       "      <th>4021</th>\n",
       "      <td>71a4c55b3bfa2549b0e1c73e689a8ca306ed9ee18e93ed...</td>\n",
       "    </tr>\n",
       "    <tr>\n",
       "      <th>4120</th>\n",
       "      <td>4b317f5941494d8a0663aca0b9b9c5be74939ae878b40d...</td>\n",
       "    </tr>\n",
       "    <tr>\n",
       "      <th>4380</th>\n",
       "      <td>c2021ce404945343071b66dc14fba9ee958751da946376...</td>\n",
       "    </tr>\n",
       "    <tr>\n",
       "      <th>4461</th>\n",
       "      <td>6bfa78e3803dda1fc6eef08a7e4e072555e346a9549098...</td>\n",
       "    </tr>\n",
       "    <tr>\n",
       "      <th>4470</th>\n",
       "      <td>2e8173bbe7e404ef2c8e7b8526c60e28d4ea36d6db3fe3...</td>\n",
       "    </tr>\n",
       "    <tr>\n",
       "      <th>4734</th>\n",
       "      <td>226e372d2ff374e4b1a897a935b3d95be94741039127df...</td>\n",
       "    </tr>\n",
       "    <tr>\n",
       "      <th>4784</th>\n",
       "      <td>1b8d092daff12bed8b3c2ab93bf5df2921865a68aca185...</td>\n",
       "    </tr>\n",
       "    <tr>\n",
       "      <th>4866</th>\n",
       "      <td>0ed5f96320c929b9b423fe7738fe52a45e5bd7f2551ab2...</td>\n",
       "    </tr>\n",
       "    <tr>\n",
       "      <th>5176</th>\n",
       "      <td>39ca541957b28d58fc713ad2f3d350d6e5b6af402e6a31...</td>\n",
       "    </tr>\n",
       "    <tr>\n",
       "      <th>5223</th>\n",
       "      <td>a0f641dd173b48005a3f79dbcd93e3d24ef5e2d73dbb13...</td>\n",
       "    </tr>\n",
       "    <tr>\n",
       "      <th>5338</th>\n",
       "      <td>04632a7f80b5f3b670aedd856420e59483c9135843fd32...</td>\n",
       "    </tr>\n",
       "    <tr>\n",
       "      <th>5474</th>\n",
       "      <td>6b50fa844d14786a17f6ac008d945ec4c9e45604a5dbe4...</td>\n",
       "    </tr>\n",
       "    <tr>\n",
       "      <th>...</th>\n",
       "      <td>...</td>\n",
       "    </tr>\n",
       "    <tr>\n",
       "      <th>454679</th>\n",
       "      <td>4474dc275c0042046d2c3e80bee008192a03ecaf55ab0d...</td>\n",
       "    </tr>\n",
       "    <tr>\n",
       "      <th>454758</th>\n",
       "      <td>67244c6a67a9affbf6709d0acdb389ded5aabd37ed2de6...</td>\n",
       "    </tr>\n",
       "    <tr>\n",
       "      <th>454844</th>\n",
       "      <td>b6966d868fb7976f993aca02fb667c9ae8f5ebf4d2e033...</td>\n",
       "    </tr>\n",
       "    <tr>\n",
       "      <th>455306</th>\n",
       "      <td>22f91af2fc8caa29b6803241bbf8c0bc27981607bb72b4...</td>\n",
       "    </tr>\n",
       "    <tr>\n",
       "      <th>455749</th>\n",
       "      <td>bd043bf472d231b7a1b38d00d2475a82dbb1c3e6c873b1...</td>\n",
       "    </tr>\n",
       "    <tr>\n",
       "      <th>455818</th>\n",
       "      <td>6c968a9ccdf990546dc4013698a262d116812d1d0f7205...</td>\n",
       "    </tr>\n",
       "    <tr>\n",
       "      <th>456375</th>\n",
       "      <td>88e6ca21f74e62321d2352f51075cdce1e1108b1ca7f83...</td>\n",
       "    </tr>\n",
       "    <tr>\n",
       "      <th>456581</th>\n",
       "      <td>e5ef7979f026f0f61361882e44d676ae796c9924047539...</td>\n",
       "    </tr>\n",
       "    <tr>\n",
       "      <th>457223</th>\n",
       "      <td>88d0280177ada783eb46747af3f82aac06cbf6b1304337...</td>\n",
       "    </tr>\n",
       "    <tr>\n",
       "      <th>457457</th>\n",
       "      <td>4a87a82771996c18afc68a17d139bd318d08fa3e5dcf9f...</td>\n",
       "    </tr>\n",
       "    <tr>\n",
       "      <th>457965</th>\n",
       "      <td>f805d187cda4465bd35cc163d2b1015d9cc0973076ece2...</td>\n",
       "    </tr>\n",
       "    <tr>\n",
       "      <th>458052</th>\n",
       "      <td>f14c934b14e69dc3b0ab1e3961cca1e14889a1ec9eb2b1...</td>\n",
       "    </tr>\n",
       "    <tr>\n",
       "      <th>458210</th>\n",
       "      <td>9b7198e52e939b09283454572999557d85284b57cfb146...</td>\n",
       "    </tr>\n",
       "    <tr>\n",
       "      <th>458449</th>\n",
       "      <td>0139e194ea0a5d43044d1e94e9429de1e8d722a7d0d04a...</td>\n",
       "    </tr>\n",
       "    <tr>\n",
       "      <th>459121</th>\n",
       "      <td>d840aa45a8e251c45b34f4fd97c1dadb6da34a30248eef...</td>\n",
       "    </tr>\n",
       "    <tr>\n",
       "      <th>459269</th>\n",
       "      <td>06eca95b876d9566ff1e07f764958831b655a7c19295fb...</td>\n",
       "    </tr>\n",
       "    <tr>\n",
       "      <th>459287</th>\n",
       "      <td>98448fefe3e358578fa643b63fcdcf4a3f2dcb496863f8...</td>\n",
       "    </tr>\n",
       "    <tr>\n",
       "      <th>459496</th>\n",
       "      <td>e56ad74403235a4f7640c9c15885ed03eeff2b1ea7d0f2...</td>\n",
       "    </tr>\n",
       "    <tr>\n",
       "      <th>459749</th>\n",
       "      <td>de3fcbb91f3580f2ce54302a0af5bb1a6ddb79fe289feb...</td>\n",
       "    </tr>\n",
       "    <tr>\n",
       "      <th>459778</th>\n",
       "      <td>c0646d69abdbeee5fb2f89d01ea0b7c218f832da94d146...</td>\n",
       "    </tr>\n",
       "    <tr>\n",
       "      <th>459878</th>\n",
       "      <td>9f1712c7f4f01a09bee7f2d4c3a8f1ff82907a406793da...</td>\n",
       "    </tr>\n",
       "    <tr>\n",
       "      <th>460217</th>\n",
       "      <td>227a832aff71db3de764316864e7277fa8df1b3ccdc94a...</td>\n",
       "    </tr>\n",
       "    <tr>\n",
       "      <th>460355</th>\n",
       "      <td>2d255f78a29c72629dfec8b012bf8801b5e701e9814a0c...</td>\n",
       "    </tr>\n",
       "    <tr>\n",
       "      <th>460428</th>\n",
       "      <td>06484ac1093f9be961b93780a96bcecc24a5318bd1eb72...</td>\n",
       "    </tr>\n",
       "    <tr>\n",
       "      <th>460512</th>\n",
       "      <td>7bf13c8c0f659d3deee17b1dafb064fb1cd00567a4e8f2...</td>\n",
       "    </tr>\n",
       "    <tr>\n",
       "      <th>460606</th>\n",
       "      <td>0a6d667b2c46d447640ac66f3e96919a77c5c20e2a0e9b...</td>\n",
       "    </tr>\n",
       "    <tr>\n",
       "      <th>461384</th>\n",
       "      <td>472d29e21cff48bcee2d5810160cd58dd28ce0de655622...</td>\n",
       "    </tr>\n",
       "    <tr>\n",
       "      <th>461622</th>\n",
       "      <td>77157faecc699c0ec0bc60ff82f0e92eed3588996c6145...</td>\n",
       "    </tr>\n",
       "    <tr>\n",
       "      <th>461688</th>\n",
       "      <td>849315388f64eb2c10c27dc77cddce4229fff734feb26a...</td>\n",
       "    </tr>\n",
       "    <tr>\n",
       "      <th>462146</th>\n",
       "      <td>45774adda826c1919c8592937ca099fb5d66b54a9c71e6...</td>\n",
       "    </tr>\n",
       "  </tbody>\n",
       "</table>\n",
       "<p>1980 rows × 1 columns</p>\n",
       "</div>"
      ],
      "text/plain": [
       "                                                       id\n",
       "79      8a584390e7b2fba5ef33a51b2f8fd63bd202194db3e5ee...\n",
       "123     6e292487550f4b68a5a710b1512039761b07cdb9d11257...\n",
       "428     1f122f16a4182b7474c29e5c49d6598ee10b86d2ab115f...\n",
       "537     a69961fa35f49e63f74cecf303437758b72a833371eea3...\n",
       "645     59d43a34290fd77e9b35e6eb5374ca7bd3ef67a2e1c507...\n",
       "693     5b8e57173320b1ae3cb45733782609c27b6ee9e8ef2c46...\n",
       "1443    c24d6219b125d9dbea52c431f6dc6122ee76c94cce8987...\n",
       "1669    d3da982ee47e130c79a9262eaf08d7093b5797ed16893f...\n",
       "2080    7de1743c7ed76964be2ae6ae429aac23393dd3e30de429...\n",
       "2533    0d32ce2de82e59e3b7acf88f84c1c591069e07ec2668ba...\n",
       "2832    cf384eed3b85fcad7309eaa6e84464f169461e4e18da1d...\n",
       "2988    188c33292034f2ef38fc850d373ae45ca9c9b70a086859...\n",
       "3116    bb61c09449a1c1f8b78955d8b7a7f73599e78358993fe2...\n",
       "3120    9a9d5292d07e99d3d4ef1c4944a8db9378c1ce5362a741...\n",
       "3174    a651774a7a22cc86086566ea82916610bf42fcaa5b5270...\n",
       "3420    dbfe82951a3c6a448eb9e99c3d6e049617ba6854c1ad2d...\n",
       "3428    d23e84d386deb53b82502230fa020084ec0d4391eadc96...\n",
       "3547    97830f0377d6491b00f74173030c13887c4b8dc7fe0785...\n",
       "4021    71a4c55b3bfa2549b0e1c73e689a8ca306ed9ee18e93ed...\n",
       "4120    4b317f5941494d8a0663aca0b9b9c5be74939ae878b40d...\n",
       "4380    c2021ce404945343071b66dc14fba9ee958751da946376...\n",
       "4461    6bfa78e3803dda1fc6eef08a7e4e072555e346a9549098...\n",
       "4470    2e8173bbe7e404ef2c8e7b8526c60e28d4ea36d6db3fe3...\n",
       "4734    226e372d2ff374e4b1a897a935b3d95be94741039127df...\n",
       "4784    1b8d092daff12bed8b3c2ab93bf5df2921865a68aca185...\n",
       "4866    0ed5f96320c929b9b423fe7738fe52a45e5bd7f2551ab2...\n",
       "5176    39ca541957b28d58fc713ad2f3d350d6e5b6af402e6a31...\n",
       "5223    a0f641dd173b48005a3f79dbcd93e3d24ef5e2d73dbb13...\n",
       "5338    04632a7f80b5f3b670aedd856420e59483c9135843fd32...\n",
       "5474    6b50fa844d14786a17f6ac008d945ec4c9e45604a5dbe4...\n",
       "...                                                   ...\n",
       "454679  4474dc275c0042046d2c3e80bee008192a03ecaf55ab0d...\n",
       "454758  67244c6a67a9affbf6709d0acdb389ded5aabd37ed2de6...\n",
       "454844  b6966d868fb7976f993aca02fb667c9ae8f5ebf4d2e033...\n",
       "455306  22f91af2fc8caa29b6803241bbf8c0bc27981607bb72b4...\n",
       "455749  bd043bf472d231b7a1b38d00d2475a82dbb1c3e6c873b1...\n",
       "455818  6c968a9ccdf990546dc4013698a262d116812d1d0f7205...\n",
       "456375  88e6ca21f74e62321d2352f51075cdce1e1108b1ca7f83...\n",
       "456581  e5ef7979f026f0f61361882e44d676ae796c9924047539...\n",
       "457223  88d0280177ada783eb46747af3f82aac06cbf6b1304337...\n",
       "457457  4a87a82771996c18afc68a17d139bd318d08fa3e5dcf9f...\n",
       "457965  f805d187cda4465bd35cc163d2b1015d9cc0973076ece2...\n",
       "458052  f14c934b14e69dc3b0ab1e3961cca1e14889a1ec9eb2b1...\n",
       "458210  9b7198e52e939b09283454572999557d85284b57cfb146...\n",
       "458449  0139e194ea0a5d43044d1e94e9429de1e8d722a7d0d04a...\n",
       "459121  d840aa45a8e251c45b34f4fd97c1dadb6da34a30248eef...\n",
       "459269  06eca95b876d9566ff1e07f764958831b655a7c19295fb...\n",
       "459287  98448fefe3e358578fa643b63fcdcf4a3f2dcb496863f8...\n",
       "459496  e56ad74403235a4f7640c9c15885ed03eeff2b1ea7d0f2...\n",
       "459749  de3fcbb91f3580f2ce54302a0af5bb1a6ddb79fe289feb...\n",
       "459778  c0646d69abdbeee5fb2f89d01ea0b7c218f832da94d146...\n",
       "459878  9f1712c7f4f01a09bee7f2d4c3a8f1ff82907a406793da...\n",
       "460217  227a832aff71db3de764316864e7277fa8df1b3ccdc94a...\n",
       "460355  2d255f78a29c72629dfec8b012bf8801b5e701e9814a0c...\n",
       "460428  06484ac1093f9be961b93780a96bcecc24a5318bd1eb72...\n",
       "460512  7bf13c8c0f659d3deee17b1dafb064fb1cd00567a4e8f2...\n",
       "460606  0a6d667b2c46d447640ac66f3e96919a77c5c20e2a0e9b...\n",
       "461384  472d29e21cff48bcee2d5810160cd58dd28ce0de655622...\n",
       "461622  77157faecc699c0ec0bc60ff82f0e92eed3588996c6145...\n",
       "461688  849315388f64eb2c10c27dc77cddce4229fff734feb26a...\n",
       "462146  45774adda826c1919c8592937ca099fb5d66b54a9c71e6...\n",
       "\n",
       "[1980 rows x 1 columns]"
      ]
     },
     "execution_count": 186,
     "metadata": {},
     "output_type": "execute_result"
    }
   ],
   "source": [
    "dfRetornoLeadsMaisAderentes = dfTreino[y_pred == 1].copy()\n",
    "print(dfRetornoLeadsMaisAderentes.shape)\n",
    "dfRetornoLeadsMaisAderentes[[\"id\"]]"
   ]
  },
  {
   "cell_type": "markdown",
   "metadata": {},
   "source": [
    "#### Salva o modelo"
   ]
  },
  {
   "cell_type": "code",
   "execution_count": 209,
   "metadata": {},
   "outputs": [],
   "source": [
    "pickle.dump(model, open('modelo.sav', 'wb'))"
   ]
  }
 ],
 "metadata": {
  "kernelspec": {
   "display_name": "Python 3",
   "language": "python",
   "name": "python3"
  },
  "language_info": {
   "codemirror_mode": {
    "name": "ipython",
    "version": 3
   },
   "file_extension": ".py",
   "mimetype": "text/x-python",
   "name": "python",
   "nbconvert_exporter": "python",
   "pygments_lexer": "ipython3",
   "version": "3.7.7"
  }
 },
 "nbformat": 4,
 "nbformat_minor": 2
}
